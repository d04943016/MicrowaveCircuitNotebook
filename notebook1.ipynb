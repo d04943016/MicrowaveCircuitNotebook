{
 "cells": [
  {
   "cell_type": "code",
   "execution_count": 14,
   "metadata": {},
   "outputs": [],
   "source": [
    "import numpy as np\n",
    "import matplotlib.pyplot as plt"
   ]
  },
  {
   "cell_type": "code",
   "execution_count": 11,
   "metadata": {},
   "outputs": [],
   "source": [
    "def cal_reflection_coefficient(z2, z1):\n",
    "    return (z2 - z1) / (z2 + z1)"
   ]
  },
  {
   "cell_type": "code",
   "execution_count": 114,
   "metadata": {},
   "outputs": [
    {
     "data": {
      "text/plain": [
       "0.0"
      ]
     },
     "execution_count": 114,
     "metadata": {},
     "output_type": "execute_result"
    }
   ],
   "source": [
    "ZL = 50\n",
    "Z1 = 50\n",
    "r = cal_reflection_coefficient(ZL, Z1)\n",
    "r"
   ]
  },
  {
   "cell_type": "code",
   "execution_count": 115,
   "metadata": {},
   "outputs": [
    {
     "data": {
      "text/plain": [
       "Text(0.5, 0, 'Length (m)')"
      ]
     },
     "execution_count": 115,
     "metadata": {},
     "output_type": "execute_result"
    }
   ],
   "source": [
    "wv = 1\n",
    "L = np.linspace(-5, 0, 1000)\n",
    "\n",
    "V_plus = np.exp(-1j * 2 * np.pi * L / wv)\n",
    "V_minus = r * np.exp(1j * 2 * np.pi * L / wv)\n",
    "gamma_x = V_minus / V_plus\n",
    "z = Z1 * (1 + gamma_x) / (1 - gamma_x)\n",
    "\n",
    "I_plus = V_plus / z\n",
    "I_minus = -V_minus / z\n",
    "\n",
    "P_plus =  V_plus.conj() * I_plus \n",
    "P_minus = V_minus.conj() * I_minus\n",
    "P_total = 0.5*np.real(P_plus + P_minus)\n",
    "\n",
    "fig, ax = plt.subplots(6, 1, figsize=(16, 30))\n",
    "ax[0].plot(L, np.real(V_plus), label=r'$V^+$')\n",
    "ax[0].plot(L, np.real(V_minus), label=r'$V^-$')\n",
    "ax[0].plot(L, np.real(V_plus + V_minus), 'k', label=r'$V=V^+ + V^-$')\n",
    "ax[0].grid(axis='y')\n",
    "ax[0].legend()\n",
    "ax[0].set_title('Voltage (V)')\n",
    "ax[0].set_ylabel('Voltage (V)')\n",
    "ax[0].set_xlabel('Length (m)')\n",
    "\n",
    "ax1 = ax[1].twinx()\n",
    "ax[1].plot(L, np.abs(gamma_x), label=r'$\\Gamma_{real}$')\n",
    "ax1.plot(L, np.angle(gamma_x, deg=True), 'black', label=r'$\\angle \\Gamma (^o)$' )\n",
    "ax[1].grid(axis='y')\n",
    "ax[1].set_title('Reflection Coefficient')\n",
    "ax[1].set_ylabel(r'$|\\Gamma|$')\n",
    "ax1.set_ylabel(r'$\\angle \\Gamma (^o)$')\n",
    "ax[1].set_xlabel('Length (m)')\n",
    "\n",
    "ax[2].plot(L, np.real(z), label=r'$Re(Z)$')\n",
    "ax[2].plot(L, np.imag(z), label=r'$Imag(Z)$')\n",
    "ax[2].grid(axis='y')\n",
    "ax[2].set_yscale('log')\n",
    "ax[2].legend()\n",
    "ax[2].set_title('Impedance')\n",
    "\n",
    "ax3 = ax[3].twinx()\n",
    "ax[3].plot(L, np.abs(z), label=r'$|Z|$')\n",
    "ax3.plot(L, np.angle(z, deg=True), 'black', label=r'$\\angle Z$' )\n",
    "ax[3].grid(axis='y')\n",
    "ax[3].set_yscale('log')\n",
    "ax[3].legend()\n",
    "ax[3].set_title('Impedance')\n",
    "ax[3].set_ylabel(r'$|Z|$')\n",
    "ax3.set_ylabel(r'$\\angle Z (^o)$')\n",
    "\n",
    "ax[4].plot(L, np.real(I_plus), label=r'$I^+$')\n",
    "ax[4].plot(L, np.real(I_minus), label=r'$I^-$')\n",
    "ax[4].plot(L, np.real(I_plus + I_minus), 'k', label=r'$I=I^+ + I^-$')\n",
    "ax[4].grid(axis='y')\n",
    "ax[4].legend()\n",
    "ax[4].set_title('Current (A)')\n",
    "ax[4].set_ylabel('Current (A)')\n",
    "ax[4].set_xlabel('Length (m)')\n",
    "\n",
    "ax[5].plot(L, np.real(P_plus), label=r'$P^+$')\n",
    "ax[5].plot(L, np.real(P_minus), label=r'$P^-$')\n",
    "ax[5].plot(L, P_total, 'k', label=r'$P_{total}$')\n",
    "ax[5].grid(axis='y')\n",
    "ax[5].legend()\n",
    "ax[5].set_title('Power (W)')\n",
    "ax[5].set_ylabel('Power (W)')\n",
    "ax[5].set_xlabel('Length (m)')\n"
   ]
  },
  {
   "cell_type": "code",
   "execution_count": null,
   "metadata": {},
   "outputs": [],
   "source": [
    "\n",
    "\n"
   ]
  },
  {
   "cell_type": "code",
   "execution_count": null,
   "metadata": {},
   "outputs": [],
   "source": []
  }
 ],
 "metadata": {
  "kernelspec": {
   "display_name": "mircowave_circuit",
   "language": "python",
   "name": "python3"
  },
  "language_info": {
   "codemirror_mode": {
    "name": "ipython",
    "version": 3
   },
   "file_extension": ".py",
   "mimetype": "text/x-python",
   "name": "python",
   "nbconvert_exporter": "python",
   "pygments_lexer": "ipython3",
   "version": "3.12.7"
  }
 },
 "nbformat": 4,
 "nbformat_minor": 2
}
